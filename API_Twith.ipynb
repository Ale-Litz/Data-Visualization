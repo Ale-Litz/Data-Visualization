{
  "nbformat": 4,
  "nbformat_minor": 0,
  "metadata": {
    "colab": {
      "provenance": [],
      "authorship_tag": "ABX9TyNeRThbiAhfjFTzMqYS/rjC",
      "include_colab_link": true
    },
    "kernelspec": {
      "name": "python3",
      "display_name": "Python 3"
    },
    "language_info": {
      "name": "python"
    }
  },
  "cells": [
    {
      "cell_type": "markdown",
      "metadata": {
        "id": "view-in-github",
        "colab_type": "text"
      },
      "source": [
        "<a href=\"https://colab.research.google.com/github/Ale-Litz/Data-Visualization/blob/main/API_Twith.ipynb\" target=\"_parent\"><img src=\"https://colab.research.google.com/assets/colab-badge.svg\" alt=\"Open In Colab\"/></a>"
      ]
    },
    {
      "cell_type": "markdown",
      "source": [
        "Installation and Setup API Twith"
      ],
      "metadata": {
        "id": "Xl1U48QpXGCQ"
      }
    },
    {
      "cell_type": "code",
      "execution_count": null,
      "metadata": {
        "colab": {
          "base_uri": "https://localhost:8080/"
        },
        "id": "IcecN4qIWqEN",
        "outputId": "1af9826a-ff02-4922-9e7e-287589d7f902"
      },
      "outputs": [
        {
          "output_type": "stream",
          "name": "stdout",
          "text": [
            "Looking in indexes: https://pypi.org/simple, https://us-python.pkg.dev/colab-wheels/public/simple/\n",
            "Collecting igdb-api-v4\n",
            "  Downloading igdb_api_v4-0.1.0-py3-none-any.whl (28 kB)\n",
            "Requirement already satisfied: protobuf in /usr/local/lib/python3.7/dist-packages (from igdb-api-v4) (3.19.6)\n",
            "Requirement already satisfied: requests in /usr/local/lib/python3.7/dist-packages (from igdb-api-v4) (2.23.0)\n",
            "Requirement already satisfied: urllib3!=1.25.0,!=1.25.1,<1.26,>=1.21.1 in /usr/local/lib/python3.7/dist-packages (from requests->igdb-api-v4) (1.24.3)\n",
            "Requirement already satisfied: chardet<4,>=3.0.2 in /usr/local/lib/python3.7/dist-packages (from requests->igdb-api-v4) (3.0.4)\n",
            "Requirement already satisfied: idna<3,>=2.5 in /usr/local/lib/python3.7/dist-packages (from requests->igdb-api-v4) (2.10)\n",
            "Requirement already satisfied: certifi>=2017.4.17 in /usr/local/lib/python3.7/dist-packages (from requests->igdb-api-v4) (2022.9.24)\n",
            "Installing collected packages: igdb-api-v4\n",
            "Successfully installed igdb-api-v4-0.1.0\n"
          ]
        }
      ],
      "source": [
        "#pip install igdb-api-v4"
      ]
    },
    {
      "cell_type": "code",
      "source": [
        "from igdb.wrapper import IGDBWrapper\n",
        "import pandas as pd\n",
        "import json\n",
        "\n",
        "df = {'id':[],'name':[]}\n",
        "\n",
        "wrapper = IGDBWrapper(\"YOUR_CLIENT_ID\", \"YOUR_APP_ACCESS_TOKEN\") # COLOCAR CLIENT_ID E TOKEN"
      ],
      "metadata": {
        "id": "vLhlY5lvWvil"
      },
      "execution_count": null,
      "outputs": []
    },
    {
      "cell_type": "code",
      "source": [
        "#game_id = 1\n",
        "#game_id = str(game_id)\n",
        "\n",
        "#byte_array = wrapper.api_request('games', 'fields id, name; offset 0; where id = '+game_id+';')\n",
        "#data = json.loads(byte_array.decode('utf-8'))\n",
        "#df_aux = pd.DataFrame.from_dict(data)"
      ],
      "metadata": {
        "id": "ppfUrzrFXlQL"
      },
      "execution_count": null,
      "outputs": []
    },
    {
      "cell_type": "code",
      "source": [
        "#df = dict(df)\n",
        "#df['id'].append(df_aux['id'][0])\n",
        "#df['name'].append(df_aux['name'][0])"
      ],
      "metadata": {
        "id": "9MlBplMXX8bj"
      },
      "execution_count": null,
      "outputs": []
    },
    {
      "cell_type": "code",
      "source": [
        "#print(df)"
      ],
      "metadata": {
        "id": "VCYLRpCAsHi0"
      },
      "execution_count": null,
      "outputs": []
    },
    {
      "cell_type": "code",
      "source": [
        "for i in range(1,10):\n",
        "  game_id = i\n",
        "  game_id = str(game_id)\n",
        "\n",
        "  byte_array = wrapper.api_request('games', 'fields id, name; offset 0; where id = '+game_id+';')\n",
        "  data = json.loads(byte_array.decode('utf-8'))\n",
        "  df_aux = pd.DataFrame.from_dict(data)\n",
        "\n",
        "  df['id'].append(df_aux['id'][0])\n",
        "  df['name'].append(df_aux['name'][0])\n",
        "\n",
        "print(df)"
      ],
      "metadata": {
        "colab": {
          "base_uri": "https://localhost:8080/"
        },
        "id": "2jL448C4xCpC",
        "outputId": "7b0eb793-9fbb-403c-975d-c0facfca6fe1"
      },
      "execution_count": null,
      "outputs": [
        {
          "output_type": "stream",
          "name": "stdout",
          "text": [
            "{'id': [1, 2, 3, 4, 5, 6, 7, 8, 9], 'name': ['Thief II: The Metal Age', 'Thief: The Dark Project', 'Thief: Deadly Shadows', 'Thief', \"Baldur's Gate\", \"Baldur's Gate II: Shadows of Amn\", 'Jagged Alliance', 'Jagged Alliance: Deadly Games', 'Jagged Alliance 2']}\n"
          ]
        }
      ]
    },
    {
      "cell_type": "code",
      "source": [
        "#df = pd.DataFrame(df)\n",
        "#df.style"
      ],
      "metadata": {
        "id": "j9wnPURZtRxt"
      },
      "execution_count": null,
      "outputs": []
    },
    {
      "cell_type": "code",
      "source": [
        "from igdb.wrapper import IGDBWrapper\n",
        "import pandas as pd\n",
        "import json\n",
        "\n",
        "wrapper = IGDBWrapper(\"YOUR_CLIENT_ID\", \"YOUR_APP_ACCESS_TOKEN\") # COLOCAR CLIENT_ID E TOKEN\n",
        "\n",
        "df = {'id':[],'name':[]}\n",
        "\n",
        "for i in range(1,21):\n",
        "  game_id = i\n",
        "  game_id = str(game_id)\n",
        "\n",
        "  byte_array = wrapper.api_request('games', 'fields id, name; offset 0; where id = '+game_id+';')\n",
        "  data = json.loads(byte_array.decode('utf-8'))\n",
        "  df_aux = pd.DataFrame.from_dict(data)\n",
        "\n",
        "  df['id'].append(df_aux['id'][0])\n",
        "  df['name'].append(df_aux['name'][0])\n",
        "\n",
        "df = pd.DataFrame(df)\n",
        "df.style"
      ],
      "metadata": {
        "colab": {
          "base_uri": "https://localhost:8080/",
          "height": 676
        },
        "id": "oeVRoM4JxrSC",
        "outputId": "14d4738a-de9f-40e0-b7d0-f26dd94f5a4c"
      },
      "execution_count": null,
      "outputs": [
        {
          "output_type": "execute_result",
          "data": {
            "text/plain": [
              "<pandas.io.formats.style.Styler at 0x7f84633f6690>"
            ],
            "text/html": [
              "<style type=\"text/css\">\n",
              "</style>\n",
              "<table id=\"T_da533_\" class=\"dataframe\">\n",
              "  <thead>\n",
              "    <tr>\n",
              "      <th class=\"blank level0\" >&nbsp;</th>\n",
              "      <th class=\"col_heading level0 col0\" >id</th>\n",
              "      <th class=\"col_heading level0 col1\" >name</th>\n",
              "    </tr>\n",
              "  </thead>\n",
              "  <tbody>\n",
              "    <tr>\n",
              "      <th id=\"T_da533_level0_row0\" class=\"row_heading level0 row0\" >0</th>\n",
              "      <td id=\"T_da533_row0_col0\" class=\"data row0 col0\" >1</td>\n",
              "      <td id=\"T_da533_row0_col1\" class=\"data row0 col1\" >Thief II: The Metal Age</td>\n",
              "    </tr>\n",
              "    <tr>\n",
              "      <th id=\"T_da533_level0_row1\" class=\"row_heading level0 row1\" >1</th>\n",
              "      <td id=\"T_da533_row1_col0\" class=\"data row1 col0\" >2</td>\n",
              "      <td id=\"T_da533_row1_col1\" class=\"data row1 col1\" >Thief: The Dark Project</td>\n",
              "    </tr>\n",
              "    <tr>\n",
              "      <th id=\"T_da533_level0_row2\" class=\"row_heading level0 row2\" >2</th>\n",
              "      <td id=\"T_da533_row2_col0\" class=\"data row2 col0\" >3</td>\n",
              "      <td id=\"T_da533_row2_col1\" class=\"data row2 col1\" >Thief: Deadly Shadows</td>\n",
              "    </tr>\n",
              "    <tr>\n",
              "      <th id=\"T_da533_level0_row3\" class=\"row_heading level0 row3\" >3</th>\n",
              "      <td id=\"T_da533_row3_col0\" class=\"data row3 col0\" >4</td>\n",
              "      <td id=\"T_da533_row3_col1\" class=\"data row3 col1\" >Thief</td>\n",
              "    </tr>\n",
              "    <tr>\n",
              "      <th id=\"T_da533_level0_row4\" class=\"row_heading level0 row4\" >4</th>\n",
              "      <td id=\"T_da533_row4_col0\" class=\"data row4 col0\" >5</td>\n",
              "      <td id=\"T_da533_row4_col1\" class=\"data row4 col1\" >Baldur's Gate</td>\n",
              "    </tr>\n",
              "    <tr>\n",
              "      <th id=\"T_da533_level0_row5\" class=\"row_heading level0 row5\" >5</th>\n",
              "      <td id=\"T_da533_row5_col0\" class=\"data row5 col0\" >6</td>\n",
              "      <td id=\"T_da533_row5_col1\" class=\"data row5 col1\" >Baldur's Gate II: Shadows of Amn</td>\n",
              "    </tr>\n",
              "    <tr>\n",
              "      <th id=\"T_da533_level0_row6\" class=\"row_heading level0 row6\" >6</th>\n",
              "      <td id=\"T_da533_row6_col0\" class=\"data row6 col0\" >7</td>\n",
              "      <td id=\"T_da533_row6_col1\" class=\"data row6 col1\" >Jagged Alliance</td>\n",
              "    </tr>\n",
              "    <tr>\n",
              "      <th id=\"T_da533_level0_row7\" class=\"row_heading level0 row7\" >7</th>\n",
              "      <td id=\"T_da533_row7_col0\" class=\"data row7 col0\" >8</td>\n",
              "      <td id=\"T_da533_row7_col1\" class=\"data row7 col1\" >Jagged Alliance: Deadly Games</td>\n",
              "    </tr>\n",
              "    <tr>\n",
              "      <th id=\"T_da533_level0_row8\" class=\"row_heading level0 row8\" >8</th>\n",
              "      <td id=\"T_da533_row8_col0\" class=\"data row8 col0\" >9</td>\n",
              "      <td id=\"T_da533_row8_col1\" class=\"data row8 col1\" >Jagged Alliance 2</td>\n",
              "    </tr>\n",
              "    <tr>\n",
              "      <th id=\"T_da533_level0_row9\" class=\"row_heading level0 row9\" >9</th>\n",
              "      <td id=\"T_da533_row9_col0\" class=\"data row9 col0\" >10</td>\n",
              "      <td id=\"T_da533_row9_col1\" class=\"data row9 col1\" >Jade Empire: Special Edition</td>\n",
              "    </tr>\n",
              "    <tr>\n",
              "      <th id=\"T_da533_level0_row10\" class=\"row_heading level0 row10\" >10</th>\n",
              "      <td id=\"T_da533_row10_col0\" class=\"data row10 col0\" >11</td>\n",
              "      <td id=\"T_da533_row10_col1\" class=\"data row10 col1\" >Vampire: The Masquerade - Bloodlines</td>\n",
              "    </tr>\n",
              "    <tr>\n",
              "      <th id=\"T_da533_level0_row11\" class=\"row_heading level0 row11\" >11</th>\n",
              "      <td id=\"T_da533_row11_col0\" class=\"data row11 col0\" >12</td>\n",
              "      <td id=\"T_da533_row11_col1\" class=\"data row11 col1\" >Vampire: The Masquerade - Redemption</td>\n",
              "    </tr>\n",
              "    <tr>\n",
              "      <th id=\"T_da533_level0_row12\" class=\"row_heading level0 row12\" >12</th>\n",
              "      <td id=\"T_da533_row12_col0\" class=\"data row12 col0\" >13</td>\n",
              "      <td id=\"T_da533_row12_col1\" class=\"data row12 col1\" >Fallout</td>\n",
              "    </tr>\n",
              "    <tr>\n",
              "      <th id=\"T_da533_level0_row13\" class=\"row_heading level0 row13\" >13</th>\n",
              "      <td id=\"T_da533_row13_col0\" class=\"data row13 col0\" >14</td>\n",
              "      <td id=\"T_da533_row13_col1\" class=\"data row13 col1\" >Fallout 2</td>\n",
              "    </tr>\n",
              "    <tr>\n",
              "      <th id=\"T_da533_level0_row14\" class=\"row_heading level0 row14\" >14</th>\n",
              "      <td id=\"T_da533_row14_col0\" class=\"data row14 col0\" >15</td>\n",
              "      <td id=\"T_da533_row14_col1\" class=\"data row14 col1\" >Fallout 3</td>\n",
              "    </tr>\n",
              "    <tr>\n",
              "      <th id=\"T_da533_level0_row15\" class=\"row_heading level0 row15\" >15</th>\n",
              "      <td id=\"T_da533_row15_col0\" class=\"data row15 col0\" >16</td>\n",
              "      <td id=\"T_da533_row15_col1\" class=\"data row15 col1\" >Fallout: New Vegas</td>\n",
              "    </tr>\n",
              "    <tr>\n",
              "      <th id=\"T_da533_level0_row16\" class=\"row_heading level0 row16\" >16</th>\n",
              "      <td id=\"T_da533_row16_col0\" class=\"data row16 col0\" >17</td>\n",
              "      <td id=\"T_da533_row16_col1\" class=\"data row16 col1\" >Fallout Tactics: Brotherhood of Steel</td>\n",
              "    </tr>\n",
              "    <tr>\n",
              "      <th id=\"T_da533_level0_row17\" class=\"row_heading level0 row17\" >17</th>\n",
              "      <td id=\"T_da533_row17_col0\" class=\"data row17 col0\" >18</td>\n",
              "      <td id=\"T_da533_row17_col1\" class=\"data row17 col1\" >Max Payne</td>\n",
              "    </tr>\n",
              "    <tr>\n",
              "      <th id=\"T_da533_level0_row18\" class=\"row_heading level0 row18\" >18</th>\n",
              "      <td id=\"T_da533_row18_col0\" class=\"data row18 col0\" >19</td>\n",
              "      <td id=\"T_da533_row18_col1\" class=\"data row18 col1\" >Max Payne 2: The Fall of Max Payne</td>\n",
              "    </tr>\n",
              "    <tr>\n",
              "      <th id=\"T_da533_level0_row19\" class=\"row_heading level0 row19\" >19</th>\n",
              "      <td id=\"T_da533_row19_col0\" class=\"data row19 col0\" >20</td>\n",
              "      <td id=\"T_da533_row19_col1\" class=\"data row19 col1\" >BioShock</td>\n",
              "    </tr>\n",
              "  </tbody>\n",
              "</table>\n"
            ]
          },
          "metadata": {},
          "execution_count": 196
        }
      ]
    }
  ]
}